{
 "cells": [
  {
   "cell_type": "code",
   "execution_count": null,
   "metadata": {
    "id": "I1apcow5dxii"
   },
   "outputs": [],
   "source": []
  },
  {
   "cell_type": "markdown",
   "metadata": {
    "id": "vncDsAP0Gaoa"
   },
   "source": [
    "# **Project Name**    - 🚕 Uber Supply-Demand Gap Analysis\n"
   ]
  },
  {
   "cell_type": "markdown",
   "metadata": {
    "id": "beRrZCGUAJYm"
   },
   "source": [
    "##### **Project Type**    - EDA/Regression/Classification/Unsupervised\n",
    "##### **Contribution**    - Individual\n",
    "##### **Name -** Abhay Pratap Singh"
   ]
  },
  {
   "cell_type": "markdown",
   "metadata": {
    "id": "FJNUwmbgGyua"
   },
   "source": [
    "# **Project Summary -**"
   ]
  },
  {
   "cell_type": "markdown",
   "metadata": {
    "id": "F6v_1wHtG2nS"
   },
   "source": [
    "<!-- Write the summary here within 500-600 words. -->\n",
    "In a dynamic urban mobility environment, Uber’s ability to meet real-time customer demand is critical to its success. This project focuses on analyzing Uber ride request data to uncover when and where supply-demand mismatches occur, and to recommend data-driven solutions to bridge this gap. Using a combination of Excel, SQL, and Python (Pandas, Seaborn), this exploratory data analysis (EDA) project aims to provide actionable insights that support operational improvements and business growth.\n",
    "\n",
    "The dataset provided includes details of Uber ride requests made in July 2016. Each record captures the request ID, pickup point (either \"City\" or \"Airport\"), driver ID (if assigned), request and drop timestamps, and the final status of the ride (Trip Completed, Cancelled, or No Cars Available). The primary challenge lies in understanding the patterns behind failed requests (cancelled or unfulfilled) and identifying the time slots and locations most affected.\n",
    "\n",
    "The first step involved cleaning the dataset using Microsoft Excel. This included formatting inconsistent date and time entries, removing corrupted rows, and separating date/time columns to make them easier to analyze later. The cleaned dataset was then used for SQL-based queries to extract statistical insights, and for Python-based feature engineering and visual exploration.\n",
    "\n",
    "In the Python notebook, additional columns were created by combining and parsing the Request date and Request time into a single Request_datetime column. From this, new features like request_hour, time_slot, request_weekday, and a boolean flag is_failed_request were generated to facilitate deep dive visual analysis.\n",
    "\n",
    "The visual EDA revealed some powerful insights:\n",
    "\n",
    "Peak request hours were observed between 5 AM–10 AM and 5 PM–9 PM, corresponding to typical commute hours.\n",
    "\n",
    "The early morning slot (5 AM–9 AM) had the highest failure rates due to No Cars Available, especially for Airport pickups.\n",
    "\n",
    "The City pickup point had more Cancelled rides, particularly in the evening.\n",
    "\n",
    "The Airport location consistently showed low driver availability, indicating a structural supply issue.\n",
    "\n",
    "These findings suggest a clear mismatch between rider demand and driver supply at certain hours and locations. To address this, we propose the following solutions:\n",
    "\n",
    "Driver Incentive Programs during early mornings and evenings to boost availability.\n",
    "\n",
    "Dynamic Driver Routing and real-time repositioning using historical demand data.\n",
    "\n",
    "Dedicated Airport Fleet Coverage to reduce unfulfilled requests at the airport.\n",
    "\n",
    "Cancellation Analysis to understand and mitigate reasons behind city-based cancellations.\n",
    "\n",
    "In conclusion, this project not only identifies the key problem areas in Uber's ride fulfillment system but also offers targeted business strategies to improve operational efficiency. By reducing the number of unfulfilled requests and cancellations, Uber can significantly improve customer satisfaction and increase revenue during peak demand periods.\n",
    "\n",
    "This project is an excellent example of how EDA can directly inform business strategy, improve customer experience, and provide competitive advantage. The methods used — Excel dashboards, SQL queries, and Python visualizations — demonstrate the power of multi-tool analysis for real-world business problems."
   ]
  },
  {
   "cell_type": "markdown",
   "metadata": {
    "id": "w6K7xa23Elo4"
   },
   "source": [
    "# **GitHub Link -**"
   ]
  },
  {
   "cell_type": "markdown",
   "metadata": {
    "id": "h1o69JH3Eqqn"
   },
   "source": [
    "https://github.com/Abhaysingh77/uber-supply-demand-gap-analysis"
   ]
  },
  {
   "cell_type": "markdown",
   "metadata": {
    "id": "yQaldy8SH6Dl"
   },
   "source": [
    "# **Problem Statement**\n"
   ]
  },
  {
   "cell_type": "markdown",
   "metadata": {
    "id": "DpeJGUA3kjGy"
   },
   "source": [
    "Uber is facing a **supply-demand imbalance**, especially during peak hours in specific locations like **Airport** and **City**. Many ride requests are being **cancelled** or marked as **No Cars Available**, resulting in **lost revenue** and **poor customer experience**.\n",
    "\n",
    "The goal of this project is to analyze Uber ride request data, identify where and when the supply-demand gap occurs, and generate **actionable business insights** to fix it."
   ]
  },
  {
   "cell_type": "markdown",
   "metadata": {
    "id": "PH-0ReGfmX4f"
   },
   "source": [
    "#### **Define Your Business Objective?**"
   ]
  },
  {
   "cell_type": "markdown",
   "metadata": {
    "id": "PhDvGCAqmjP1"
   },
   "source": [
    "The main business objectives are:\n",
    "\n",
    "- **Analyze hourly trends** to understand when most requests are placed and when most failures happen\n",
    "- **Identify locations (City/Airport)** with poor supply or high cancellations\n",
    "- **Measure failure rates** across time slots and pickup points\n",
    "- **Recommend actions** that Uber can take to **minimize lost rides**, **optimize driver allocation**, and **improve fulfillment rates**\n",
    "\n",
    "This will help Uber **maximize ride completions**, **retain users**, and **improve profitability** during high-demand periods."
   ]
  },
  {
   "cell_type": "markdown",
   "metadata": {
    "id": "mDgbUHAGgjLW"
   },
   "source": [
    "# **General Guidelines** : -  "
   ]
  },
  {
   "cell_type": "markdown",
   "metadata": {
    "id": "ZrxVaUj-hHfC"
   },
   "source": [
    "1.   Well-structured, formatted, and commented code is required.\n",
    "2.   Exception Handling, Production Grade Code & Deployment Ready Code will be a plus. Those students will be awarded some additional credits.\n",
    "     \n",
    "     The additional credits will have advantages over other students during Star Student selection.\n",
    "       \n",
    "             [ Note: - Deployment Ready Code is defined as, the whole .ipynb notebook should be executable in one go\n",
    "                       without a single error logged. ]\n",
    "\n",
    "3.   Each and every logic should have proper comments.\n",
    "4. You may add as many number of charts you want. Make Sure for each and every chart the following format should be answered.\n",
    "        \n",
    "\n",
    "```\n",
    "# Chart visualization code\n",
    "```\n",
    "            \n",
    "\n",
    "*   Why did you pick the specific chart?\n",
    "*   What is/are the insight(s) found from the chart?\n",
    "* Will the gained insights help creating a positive business impact?\n",
    "Are there any insights that lead to negative growth? Justify with specific reason.\n",
    "\n",
    "5. You have to create at least 20 logical & meaningful charts having important insights.\n",
    "\n",
    "\n",
    "[ Hints : - Do the Vizualization in  a structured way while following \"UBM\" Rule.\n",
    "\n",
    "U - Univariate Analysis,\n",
    "\n",
    "B - Bivariate Analysis (Numerical - Categorical, Numerical - Numerical, Categorical - Categorical)\n",
    "\n",
    "M - Multivariate Analysis\n",
    " ]\n",
    "\n",
    "\n",
    "\n"
   ]
  },
  {
   "cell_type": "markdown",
   "metadata": {
    "id": "O_i_v8NEhb9l"
   },
   "source": [
    "# ***Let's Begin !***"
   ]
  },
  {
   "cell_type": "markdown",
   "metadata": {
    "id": "HhfV-JJviCcP"
   },
   "source": [
    "## ***1. Know Your Data***"
   ]
  },
  {
   "cell_type": "markdown",
   "metadata": {
    "id": "Y3lxredqlCYt"
   },
   "source": [
    "### Import Libraries"
   ]
  },
  {
   "cell_type": "code",
   "execution_count": 25,
   "metadata": {
    "id": "M8Vqi-pPk-HR"
   },
   "outputs": [],
   "source": [
    "# Import Libraries\n",
    "import pandas as pd\n",
    "import numpy as np\n",
    "import matplotlib.pyplot as plt\n",
    "import seaborn as sns\n",
    "import missingno as msno\n",
    "\n",
    "# Style\n",
    "sns.set_style(\"whitegrid\")\n",
    "plt.rcParams['figure.figsize'] = (12, 6)\n"
   ]
  },
  {
   "cell_type": "markdown",
   "metadata": {
    "id": "3RnN4peoiCZX"
   },
   "source": [
    "### Dataset Loading"
   ]
  },
  {
   "cell_type": "code",
   "execution_count": 26,
   "metadata": {
    "id": "4CkvbW_SlZ_R"
   },
   "outputs": [],
   "source": [
    "# Load Dataset\n",
    "df = pd.read_csv(\"./Uber Request Data.csv\")"
   ]
  },
  {
   "cell_type": "markdown",
   "metadata": {
    "id": "x71ZqKXriCWQ"
   },
   "source": [
    "### Dataset First View"
   ]
  },
  {
   "cell_type": "code",
   "execution_count": 27,
   "metadata": {
    "id": "LWNFOSvLl09H"
   },
   "outputs": [
    {
     "data": {
      "text/html": [
       "<div>\n",
       "<style scoped>\n",
       "    .dataframe tbody tr th:only-of-type {\n",
       "        vertical-align: middle;\n",
       "    }\n",
       "\n",
       "    .dataframe tbody tr th {\n",
       "        vertical-align: top;\n",
       "    }\n",
       "\n",
       "    .dataframe thead th {\n",
       "        text-align: right;\n",
       "    }\n",
       "</style>\n",
       "<table border=\"1\" class=\"dataframe\">\n",
       "  <thead>\n",
       "    <tr style=\"text-align: right;\">\n",
       "      <th></th>\n",
       "      <th>Request_id</th>\n",
       "      <th>Pickup_point</th>\n",
       "      <th>Driver_id</th>\n",
       "      <th>Status</th>\n",
       "      <th>Request_date</th>\n",
       "      <th>Request_time</th>\n",
       "      <th>Drop_date</th>\n",
       "      <th>Drop_time</th>\n",
       "    </tr>\n",
       "  </thead>\n",
       "  <tbody>\n",
       "    <tr>\n",
       "      <th>0</th>\n",
       "      <td>1</td>\n",
       "      <td>Airport</td>\n",
       "      <td>285.0</td>\n",
       "      <td>Trip Completed</td>\n",
       "      <td>11/7/2016</td>\n",
       "      <td>12:20:00 AM</td>\n",
       "      <td>11/7/2016</td>\n",
       "      <td>12:51:00 AM</td>\n",
       "    </tr>\n",
       "    <tr>\n",
       "      <th>1</th>\n",
       "      <td>2</td>\n",
       "      <td>Airport</td>\n",
       "      <td>NaN</td>\n",
       "      <td>No Cars Available</td>\n",
       "      <td>11/7/2016</td>\n",
       "      <td>12:23:00 AM</td>\n",
       "      <td>NaN</td>\n",
       "      <td>NaN</td>\n",
       "    </tr>\n",
       "    <tr>\n",
       "      <th>2</th>\n",
       "      <td>3</td>\n",
       "      <td>Airport</td>\n",
       "      <td>80.0</td>\n",
       "      <td>Trip Completed</td>\n",
       "      <td>11/7/2016</td>\n",
       "      <td>12:24:00 AM</td>\n",
       "      <td>11/7/2016</td>\n",
       "      <td>1:31:00 AM</td>\n",
       "    </tr>\n",
       "    <tr>\n",
       "      <th>3</th>\n",
       "      <td>4</td>\n",
       "      <td>City</td>\n",
       "      <td>NaN</td>\n",
       "      <td>No Cars Available</td>\n",
       "      <td>11/7/2016</td>\n",
       "      <td>12:37:00 AM</td>\n",
       "      <td>NaN</td>\n",
       "      <td>NaN</td>\n",
       "    </tr>\n",
       "    <tr>\n",
       "      <th>4</th>\n",
       "      <td>5</td>\n",
       "      <td>Airport</td>\n",
       "      <td>264.0</td>\n",
       "      <td>Trip Completed</td>\n",
       "      <td>11/7/2016</td>\n",
       "      <td>12:36:00 AM</td>\n",
       "      <td>11/7/2016</td>\n",
       "      <td>1:35:00 AM</td>\n",
       "    </tr>\n",
       "  </tbody>\n",
       "</table>\n",
       "</div>"
      ],
      "text/plain": [
       "   Request_id Pickup_point  Driver_id             Status Request_date  \\\n",
       "0           1      Airport      285.0     Trip Completed    11/7/2016   \n",
       "1           2      Airport        NaN  No Cars Available    11/7/2016   \n",
       "2           3      Airport       80.0     Trip Completed    11/7/2016   \n",
       "3           4         City        NaN  No Cars Available    11/7/2016   \n",
       "4           5      Airport      264.0     Trip Completed    11/7/2016   \n",
       "\n",
       "  Request_time  Drop_date    Drop_time  \n",
       "0  12:20:00 AM  11/7/2016  12:51:00 AM  \n",
       "1  12:23:00 AM        NaN          NaN  \n",
       "2  12:24:00 AM  11/7/2016   1:31:00 AM  \n",
       "3  12:37:00 AM        NaN          NaN  \n",
       "4  12:36:00 AM  11/7/2016   1:35:00 AM  "
      ]
     },
     "execution_count": 27,
     "metadata": {},
     "output_type": "execute_result"
    }
   ],
   "source": [
    "# Dataset First Look\n",
    "df.head()"
   ]
  },
  {
   "cell_type": "markdown",
   "metadata": {
    "id": "7hBIi_osiCS2"
   },
   "source": [
    "### Dataset Rows & Columns count"
   ]
  },
  {
   "cell_type": "code",
   "execution_count": 28,
   "metadata": {
    "id": "Kllu7SJgmLij"
   },
   "outputs": [
    {
     "name": "stdout",
     "output_type": "stream",
     "text": [
      "rows count: 6745\n",
      "columns count: 8\n"
     ]
    }
   ],
   "source": [
    "# Dataset Rows & Columns count\n",
    "rows, cols = df.shape\n",
    "print(\"rows count:\",rows)\n",
    "print(\"columns count:\",cols)"
   ]
  },
  {
   "cell_type": "markdown",
   "metadata": {
    "id": "JlHwYmJAmNHm"
   },
   "source": [
    "### Dataset Information"
   ]
  },
  {
   "cell_type": "code",
   "execution_count": 29,
   "metadata": {
    "id": "e9hRXRi6meOf"
   },
   "outputs": [
    {
     "name": "stdout",
     "output_type": "stream",
     "text": [
      "<class 'pandas.core.frame.DataFrame'>\n",
      "RangeIndex: 6745 entries, 0 to 6744\n",
      "Data columns (total 8 columns):\n",
      " #   Column        Non-Null Count  Dtype  \n",
      "---  ------        --------------  -----  \n",
      " 0   Request_id    6745 non-null   int64  \n",
      " 1   Pickup_point  6745 non-null   object \n",
      " 2   Driver_id     4095 non-null   float64\n",
      " 3   Status        6745 non-null   object \n",
      " 4   Request_date  6745 non-null   object \n",
      " 5   Request_time  6745 non-null   object \n",
      " 6   Drop_date     2831 non-null   object \n",
      " 7   Drop_time     2831 non-null   object \n",
      "dtypes: float64(1), int64(1), object(6)\n",
      "memory usage: 421.7+ KB\n"
     ]
    }
   ],
   "source": [
    "# Dataset Info\n",
    "df.info()"
   ]
  },
  {
   "cell_type": "markdown",
   "metadata": {
    "id": "35m5QtbWiB9F"
   },
   "source": [
    "#### Duplicate Values"
   ]
  },
  {
   "cell_type": "code",
   "execution_count": 30,
   "metadata": {
    "id": "1sLdpKYkmox0"
   },
   "outputs": [
    {
     "name": "stdout",
     "output_type": "stream",
     "text": [
      "Duplicate rows in dataset: 0\n"
     ]
    }
   ],
   "source": [
    "# Dataset Duplicate Value Count\n",
    "duplicate_count = df.duplicated().sum();\n",
    "print(f\"Duplicate rows in dataset: {duplicate_count}\")"
   ]
  },
  {
   "cell_type": "markdown",
   "metadata": {
    "id": "PoPl-ycgm1ru"
   },
   "source": [
    "#### Missing Values/Null Values"
   ]
  },
  {
   "cell_type": "code",
   "execution_count": 31,
   "metadata": {
    "id": "GgHWkxvamxVg"
   },
   "outputs": [
    {
     "name": "stdout",
     "output_type": "stream",
     "text": [
      "Request_id         0\n",
      "Pickup_point       0\n",
      "Driver_id       2650\n",
      "Status             0\n",
      "Request_date       0\n",
      "Request_time       0\n",
      "Drop_date       3914\n",
      "Drop_time       3914\n",
      "dtype: int64\n"
     ]
    }
   ],
   "source": [
    "# Missing Values/Null Values Count\n",
    "null_values_count = df.isnull().sum();\n",
    "print(null_values_count)"
   ]
  },
  {
   "cell_type": "code",
   "execution_count": 32,
   "metadata": {
    "id": "3q5wnI3om9sJ"
   },
   "outputs": [
    {
     "data": {
      "text/plain": [
       "<Axes: >"
      ]
     },
     "execution_count": 32,
     "metadata": {},
     "output_type": "execute_result"
    },
    {
     "data": {
      "image/png": "[encoded data removed]",
      "text/plain": [
       "<Figure size 2500x1000 with 3 Axes>"
      ]
     },
     "metadata": {},
     "output_type": "display_data"
    }
   ],
   "source": [
    "# Visualizing the missing values\n",
    "# sns.heatmap(df.isnull(), cbar=False, cmap='viridis')\n",
    "# plt.title(\"Missing Values Heatmap\")\n",
    "# plt.show()\n",
    "\n",
    "# using missingno lib\n",
    "msno.bar(df)"
   ]
  },
  {
   "cell_type": "code",
   "execution_count": 33,
   "metadata": {
    "id": "H0kj-8xxnORC"
   },
   "outputs": [],
   "source": [
    "### What did you know about your dataset?"
   ]
  },
  {
   "cell_type": "raw",
   "metadata": {
    "id": "gfoNAAC-nUe_"
   },
   "source": [
    "This dataset is a uber request data. \n",
    "It contains 8 columns and 6745 rows of data. \n",
    "Found out that there are no duplicate row in the dataset but includes null values or null values as we can see in the above chart which we generate using missingno.\n",
    "Missing values present in columns: Drop time, Driver id.\n",
    "These are expected since some rides were never completed.\n",
    "We'll handle these during analysis (not dropping)\n",
    "This dataset contains various formats or types of data such as integer, float and object.\n"
   ]
  },
  {
   "cell_type": "markdown",
   "metadata": {
    "id": "nA9Y7ga8ng1Z"
   },
   "source": [
    "## ***2. Understanding Your Variables***"
   ]
  },
  {
   "cell_type": "code",
   "execution_count": 34,
   "metadata": {
    "id": "j7xfkqrt5Ag5"
   },
   "outputs": [
    {
     "data": {
      "text/plain": [
       "Request_id        int64\n",
       "Pickup_point     object\n",
       "Driver_id       float64\n",
       "Status           object\n",
       "Request_date     object\n",
       "Request_time     object\n",
       "Drop_date        object\n",
       "Drop_time        object\n",
       "dtype: object"
      ]
     },
     "execution_count": 34,
     "metadata": {},
     "output_type": "execute_result"
    }
   ],
   "source": [
    "# Dataset Columns\n",
    "df.dtypes"
   ]
  },
  {
   "cell_type": "code",
   "execution_count": 35,
   "metadata": {
    "id": "DnOaZdaE5Q5t"
   },
   "outputs": [
    {
     "data": {
      "text/html": [
       "<div>\n",
       "<style scoped>\n",
       "    .dataframe tbody tr th:only-of-type {\n",
       "        vertical-align: middle;\n",
       "    }\n",
       "\n",
       "    .dataframe tbody tr th {\n",
       "        vertical-align: top;\n",
       "    }\n",
       "\n",
       "    .dataframe thead th {\n",
       "        text-align: right;\n",
       "    }\n",
       "</style>\n",
       "<table border=\"1\" class=\"dataframe\">\n",
       "  <thead>\n",
       "    <tr style=\"text-align: right;\">\n",
       "      <th></th>\n",
       "      <th>Request_id</th>\n",
       "      <th>Pickup_point</th>\n",
       "      <th>Driver_id</th>\n",
       "      <th>Status</th>\n",
       "      <th>Request_date</th>\n",
       "      <th>Request_time</th>\n",
       "      <th>Drop_date</th>\n",
       "      <th>Drop_time</th>\n",
       "    </tr>\n",
       "  </thead>\n",
       "  <tbody>\n",
       "    <tr>\n",
       "      <th>count</th>\n",
       "      <td>6745.000000</td>\n",
       "      <td>6745</td>\n",
       "      <td>4095.000000</td>\n",
       "      <td>6745</td>\n",
       "      <td>6745</td>\n",
       "      <td>6745</td>\n",
       "      <td>2831</td>\n",
       "      <td>2831</td>\n",
       "    </tr>\n",
       "    <tr>\n",
       "      <th>unique</th>\n",
       "      <td>NaN</td>\n",
       "      <td>2</td>\n",
       "      <td>NaN</td>\n",
       "      <td>3</td>\n",
       "      <td>5</td>\n",
       "      <td>4955</td>\n",
       "      <td>6</td>\n",
       "      <td>2393</td>\n",
       "    </tr>\n",
       "    <tr>\n",
       "      <th>top</th>\n",
       "      <td>NaN</td>\n",
       "      <td>City</td>\n",
       "      <td>NaN</td>\n",
       "      <td>Trip Completed</td>\n",
       "      <td>15-07-2016</td>\n",
       "      <td>7:02:00 PM</td>\n",
       "      <td>11/7/2016</td>\n",
       "      <td>9:53:00 PM</td>\n",
       "    </tr>\n",
       "    <tr>\n",
       "      <th>freq</th>\n",
       "      <td>NaN</td>\n",
       "      <td>3507</td>\n",
       "      <td>NaN</td>\n",
       "      <td>2831</td>\n",
       "      <td>1381</td>\n",
       "      <td>9</td>\n",
       "      <td>582</td>\n",
       "      <td>6</td>\n",
       "    </tr>\n",
       "    <tr>\n",
       "      <th>mean</th>\n",
       "      <td>3384.644922</td>\n",
       "      <td>NaN</td>\n",
       "      <td>149.501343</td>\n",
       "      <td>NaN</td>\n",
       "      <td>NaN</td>\n",
       "      <td>NaN</td>\n",
       "      <td>NaN</td>\n",
       "      <td>NaN</td>\n",
       "    </tr>\n",
       "    <tr>\n",
       "      <th>std</th>\n",
       "      <td>1955.099667</td>\n",
       "      <td>NaN</td>\n",
       "      <td>86.051994</td>\n",
       "      <td>NaN</td>\n",
       "      <td>NaN</td>\n",
       "      <td>NaN</td>\n",
       "      <td>NaN</td>\n",
       "      <td>NaN</td>\n",
       "    </tr>\n",
       "    <tr>\n",
       "      <th>min</th>\n",
       "      <td>1.000000</td>\n",
       "      <td>NaN</td>\n",
       "      <td>1.000000</td>\n",
       "      <td>NaN</td>\n",
       "      <td>NaN</td>\n",
       "      <td>NaN</td>\n",
       "      <td>NaN</td>\n",
       "      <td>NaN</td>\n",
       "    </tr>\n",
       "    <tr>\n",
       "      <th>25%</th>\n",
       "      <td>1691.000000</td>\n",
       "      <td>NaN</td>\n",
       "      <td>75.000000</td>\n",
       "      <td>NaN</td>\n",
       "      <td>NaN</td>\n",
       "      <td>NaN</td>\n",
       "      <td>NaN</td>\n",
       "      <td>NaN</td>\n",
       "    </tr>\n",
       "    <tr>\n",
       "      <th>50%</th>\n",
       "      <td>3387.000000</td>\n",
       "      <td>NaN</td>\n",
       "      <td>149.000000</td>\n",
       "      <td>NaN</td>\n",
       "      <td>NaN</td>\n",
       "      <td>NaN</td>\n",
       "      <td>NaN</td>\n",
       "      <td>NaN</td>\n",
       "    </tr>\n",
       "    <tr>\n",
       "      <th>75%</th>\n",
       "      <td>5080.000000</td>\n",
       "      <td>NaN</td>\n",
       "      <td>224.000000</td>\n",
       "      <td>NaN</td>\n",
       "      <td>NaN</td>\n",
       "      <td>NaN</td>\n",
       "      <td>NaN</td>\n",
       "      <td>NaN</td>\n",
       "    </tr>\n",
       "    <tr>\n",
       "      <th>max</th>\n",
       "      <td>6766.000000</td>\n",
       "      <td>NaN</td>\n",
       "      <td>300.000000</td>\n",
       "      <td>NaN</td>\n",
       "      <td>NaN</td>\n",
       "      <td>NaN</td>\n",
       "      <td>NaN</td>\n",
       "      <td>NaN</td>\n",
       "    </tr>\n",
       "  </tbody>\n",
       "</table>\n",
       "</div>"
      ],
      "text/plain": [
       "         Request_id Pickup_point    Driver_id          Status Request_date  \\\n",
       "count   6745.000000         6745  4095.000000            6745         6745   \n",
       "unique          NaN            2          NaN               3            5   \n",
       "top             NaN         City          NaN  Trip Completed   15-07-2016   \n",
       "freq            NaN         3507          NaN            2831         1381   \n",
       "mean    3384.644922          NaN   149.501343             NaN          NaN   \n",
       "std     1955.099667          NaN    86.051994             NaN          NaN   \n",
       "min        1.000000          NaN     1.000000             NaN          NaN   \n",
       "25%     1691.000000          NaN    75.000000             NaN          NaN   \n",
       "50%     3387.000000          NaN   149.000000             NaN          NaN   \n",
       "75%     5080.000000          NaN   224.000000             NaN          NaN   \n",
       "max     6766.000000          NaN   300.000000             NaN          NaN   \n",
       "\n",
       "       Request_time  Drop_date   Drop_time  \n",
       "count          6745       2831        2831  \n",
       "unique         4955          6        2393  \n",
       "top      7:02:00 PM  11/7/2016  9:53:00 PM  \n",
       "freq              9        582           6  \n",
       "mean            NaN        NaN         NaN  \n",
       "std             NaN        NaN         NaN  \n",
       "min             NaN        NaN         NaN  \n",
       "25%             NaN        NaN         NaN  \n",
       "50%             NaN        NaN         NaN  \n",
       "75%             NaN        NaN         NaN  \n",
       "max             NaN        NaN         NaN  "
      ]
     },
     "execution_count": 35,
     "metadata": {},
     "output_type": "execute_result"
    }
   ],
   "source": [
    "# Dataset Describe\n",
    "df.describe(include=\"all\")"
   ]
  },
  {
   "cell_type": "markdown",
   "metadata": {
    "id": "PBTbrJXOngz2"
   },
   "source": [
    "### Variables Description"
   ]
  },
  {
   "cell_type": "markdown",
   "metadata": {
    "id": "aJV4KIxSnxay"
   },
   "source": [
    " Column Name         | Description                                                                 |\n",
    "|---------------------|-----------------------------------------------------------------------------|\n",
    "| **Request id**      | Unique identifier for each ride request.                                    |\n",
    "| **Pickup point**    | Location where the customer requested pickup — either **Airport** or **City**. |\n",
    "| **Driver id**       | Unique identifier for the driver assigned to the request (may be missing if no driver was assigned). |\n",
    "| **Status**          | Outcome of the request: `Trip Completed`, `Cancelled`, or `No Cars Available`. |\n",
    "| **Request date**    | Date on which the customer placed the request (`dd/mm/yyyy` format).        |\n",
    "| **Request time**    | Time of the request in 12-hour format with AM/PM.                            |\n",
    "| **Drop time**       | Time when the trip ended (may be missing for failed requests).              |\n",
    "\n",
    "### ℹ️ Notes:\n",
    "- Missing values in `Drop time` and `Driver id` are expected for failed ride requests.\n",
    "- Time-derived columns help visualize the **supply-demand gap over time**."
   ]
  },
  {
   "cell_type": "markdown",
   "metadata": {
    "id": "u3PMJOP6ngxN"
   },
   "source": [
    "### Check Unique Values for each variable."
   ]
  },
  {
   "cell_type": "code",
   "execution_count": 36,
   "metadata": {
    "id": "zms12Yq5n-jE"
   },
   "outputs": [
    {
     "name": "stdout",
     "output_type": "stream",
     "text": [
      "Request_id: 6745 unique values\n",
      "Pickup_point: 2 unique values\n",
      "Driver_id: 300 unique values\n",
      "Status: 3 unique values\n",
      "Request_date: 5 unique values\n",
      "Request_time: 4955 unique values\n",
      "Drop_date: 6 unique values\n",
      "Drop_time: 2393 unique values\n"
     ]
    }
   ],
   "source": [
    "# Check Unique Values for each variable.\n",
    "# Show number of unique values in each column\n",
    "for col in df.columns:\n",
    "    unique_vals = df[col].nunique()\n",
    "    print(f\"{col}: {unique_vals} unique values\")\n"
   ]
  },
  {
   "cell_type": "markdown",
   "metadata": {
    "id": "dauF4eBmngu3"
   },
   "source": [
    "## 3. ***Data Wrangling***"
   ]
  },
  {
   "cell_type": "markdown",
   "metadata": {
    "id": "bKJF3rekwFvQ"
   },
   "source": [
    "### Data Wrangling Code"
   ]
  },
  {
   "cell_type": "code",
   "execution_count": 37,
   "metadata": {
    "id": "wk-9a2fpoLcV"
   },
   "outputs": [
    {
     "name": "stdout",
     "output_type": "stream",
     "text": [
      "Duplicate rows: 0\n"
     ]
    },
    {
     "name": "stderr",
     "output_type": "stream",
     "text": [
      "C:\\Users\\Gayatri\\AppData\\Local\\Temp\\ipykernel_26380\\1128587383.py:11: UserWarning: Could not infer format, so each element will be parsed individually, falling back to `dateutil`. To ensure parsing is consistent and as-expected, please specify a format.\n",
      "  df['Request_datetime'] = pd.to_datetime(\n"
     ]
    },
    {
     "data": {
      "text/html": [
       "<div>\n",
       "<style scoped>\n",
       "    .dataframe tbody tr th:only-of-type {\n",
       "        vertical-align: middle;\n",
       "    }\n",
       "\n",
       "    .dataframe tbody tr th {\n",
       "        vertical-align: top;\n",
       "    }\n",
       "\n",
       "    .dataframe thead th {\n",
       "        text-align: right;\n",
       "    }\n",
       "</style>\n",
       "<table border=\"1\" class=\"dataframe\">\n",
       "  <thead>\n",
       "    <tr style=\"text-align: right;\">\n",
       "      <th></th>\n",
       "      <th>Request_datetime</th>\n",
       "      <th>request_hour</th>\n",
       "      <th>time_slot</th>\n",
       "      <th>Status</th>\n",
       "      <th>is_failed_request</th>\n",
       "    </tr>\n",
       "  </thead>\n",
       "  <tbody>\n",
       "    <tr>\n",
       "      <th>0</th>\n",
       "      <td>2016-07-11 00:20:00</td>\n",
       "      <td>0</td>\n",
       "      <td>Late Night</td>\n",
       "      <td>Trip Completed</td>\n",
       "      <td>False</td>\n",
       "    </tr>\n",
       "    <tr>\n",
       "      <th>1</th>\n",
       "      <td>2016-07-11 00:23:00</td>\n",
       "      <td>0</td>\n",
       "      <td>Late Night</td>\n",
       "      <td>No Cars Available</td>\n",
       "      <td>True</td>\n",
       "    </tr>\n",
       "    <tr>\n",
       "      <th>2</th>\n",
       "      <td>2016-07-11 00:24:00</td>\n",
       "      <td>0</td>\n",
       "      <td>Late Night</td>\n",
       "      <td>Trip Completed</td>\n",
       "      <td>False</td>\n",
       "    </tr>\n",
       "    <tr>\n",
       "      <th>3</th>\n",
       "      <td>2016-07-11 00:37:00</td>\n",
       "      <td>0</td>\n",
       "      <td>Late Night</td>\n",
       "      <td>No Cars Available</td>\n",
       "      <td>True</td>\n",
       "    </tr>\n",
       "    <tr>\n",
       "      <th>4</th>\n",
       "      <td>2016-07-11 00:36:00</td>\n",
       "      <td>0</td>\n",
       "      <td>Late Night</td>\n",
       "      <td>Trip Completed</td>\n",
       "      <td>False</td>\n",
       "    </tr>\n",
       "  </tbody>\n",
       "</table>\n",
       "</div>"
      ],
      "text/plain": [
       "     Request_datetime  request_hour   time_slot             Status  \\\n",
       "0 2016-07-11 00:20:00             0  Late Night     Trip Completed   \n",
       "1 2016-07-11 00:23:00             0  Late Night  No Cars Available   \n",
       "2 2016-07-11 00:24:00             0  Late Night     Trip Completed   \n",
       "3 2016-07-11 00:37:00             0  Late Night  No Cars Available   \n",
       "4 2016-07-11 00:36:00             0  Late Night     Trip Completed   \n",
       "\n",
       "   is_failed_request  \n",
       "0              False  \n",
       "1               True  \n",
       "2              False  \n",
       "3               True  \n",
       "4              False  "
      ]
     },
     "execution_count": 37,
     "metadata": {},
     "output_type": "execute_result"
    }
   ],
   "source": [
    "# Write your code to make your dataset analysis ready.\n",
    "\n",
    "# Check and remove duplicates\n",
    "print(\"Duplicate rows:\", df.duplicated().sum())\n",
    "df.drop_duplicates(inplace=True)\n",
    "\n",
    "# View missing values\n",
    "df.isnull().sum()\n",
    "\n",
    "# Convert to full datetime\n",
    "df['Request_datetime'] = pd.to_datetime(\n",
    "    df['Request_date'] + ' ' + df['Request_time'],\n",
    "    dayfirst=True,           # dd/mm/yyyy\n",
    "    errors='coerce'          # if any date is corrupt, it won't crash — it'll just show as NaT\n",
    ")\n",
    "\n",
    "\n",
    "\n",
    "df['request_hour'] = df['Request_datetime'].dt.hour\n",
    "df['request_day'] = df['Request_datetime'].dt.day\n",
    "df['request_weekday'] = df['Request_datetime'].dt.day_name()\n",
    "\n",
    "\n",
    "def get_time_slot(hour):\n",
    "    if 4 <= hour < 8:\n",
    "        return 'Early Morning'\n",
    "    elif 8 <= hour < 12:\n",
    "        return 'Morning'\n",
    "    elif 12 <= hour < 16:\n",
    "        return 'Afternoon'\n",
    "    elif 16 <= hour < 20:\n",
    "        return 'Evening'\n",
    "    elif 20 <= hour < 24:\n",
    "        return 'Night'\n",
    "    else:\n",
    "        return 'Late Night'\n",
    "\n",
    "# Create time_slot Buckets (Categorical)\n",
    "df['time_slot'] = df['request_hour'].apply(get_time_slot)\n",
    "\n",
    "#  Create is_failed_request Column (True/False)\n",
    "df['is_failed_request'] = df['Status'].isin(['Cancelled', 'No Cars Available'])\n",
    "\n",
    "\n",
    "df[['Request_datetime', 'request_hour', 'time_slot', 'Status', 'is_failed_request']].head()\n",
    "\n"
   ]
  },
  {
   "cell_type": "markdown",
   "metadata": {
    "id": "MSa1f5Uengrz"
   },
   "source": [
    "### What all manipulations have you done and insights you found?"
   ]
  },
  {
   "cell_type": "markdown",
   "metadata": {
    "id": "LbyXE7I1olp8"
   },
   "source": [
    "### 🧹 Data Wrangling Summary\n",
    "\n",
    "- ✅ **Duplicate rows** were checked and removed (if any).\n",
    "- ✅ **Missing values** were identified in `Drop time` and `Driver id`, which are expected for failed or unfulfilled ride requests. These rows are retained for meaningful supply-demand gap analysis.\n",
    "- ✅ **Datetime parsing**: Combined `Request date` and `Request time` into a single column `Request_datetime` using `pd.to_datetime()` for accurate time-based analysis.\n",
    "- ✅ **Feature engineering**:\n",
    "    - Extracted `request_hour`, `request_day`, and `request_weekday` from the parsed datetime.\n",
    "    - Created a new categorical column `time_slot` to categorize requests into parts of the day like Morning, Evening, etc.\n",
    "    - Added a boolean column `is_failed_request` which is `True` for requests with status `Cancelled` or `No Cars Available`.\n",
    "\n",
    "These transformations prepare the dataset for meaningful exploratory data analysis in the next section.\n"
   ]
  },
  {
   "cell_type": "markdown",
   "metadata": {
    "id": "GF8Ens_Soomf"
   },
   "source": [
    "## ***4. Data Vizualization, Storytelling & Experimenting with charts : Understand the relationships between variables***"
   ]
  },
  {
   "cell_type": "markdown",
   "metadata": {
    "id": "0wOQAZs5pc--"
   },
   "source": [
    "#### Chart - 1"
   ]
  },
  {
   "cell_type": "code",
   "execution_count": 38,
   "metadata": {
    "id": "7v_ESjsspbW7"
   },
   "outputs": [
    {
     "name": "stderr",
     "output_type": "stream",
     "text": [
      "C:\\Users\\Gayatri\\AppData\\Local\\Temp\\ipykernel_26380\\1374763306.py:2: FutureWarning: \n",
      "\n",
      "Passing `palette` without assigning `hue` is deprecated and will be removed in v0.14.0. Assign the `x` variable to `hue` and set `legend=False` for the same effect.\n",
      "\n",
      "  sns.countplot(x='request_hour', data=df, palette='Set2')\n"
     ]
    },
    {
     "data": {
      "image/png": "[encoded data removed]",
      "text/plain": [
       "<Figure size 1200x600 with 1 Axes>"
      ]
     },
     "metadata": {},
     "output_type": "display_data"
    }
   ],
   "source": [
    "# Chart - 1 visualization code\n",
    "sns.countplot(x='request_hour', data=df, palette='Set2')\n",
    "plt.title(\"Total Requests by Hour\")\n",
    "plt.xlabel(\"Hour of Day\")\n",
    "plt.ylabel(\"Number of Requests\")\n",
    "plt.show()\n"
   ]
  },
  {
   "cell_type": "markdown",
   "metadata": {
    "id": "K5QZ13OEpz2H"
   },
   "source": [
    "##### 1. Why did you pick the specific chart?"
   ]
  },
  {
   "cell_type": "markdown",
   "metadata": {
    "id": "XESiWehPqBRc"
   },
   "source": [
    "A bar plot effectively shows the total number of requests received during each hour of the day, making it easy to identify peak demand periods."
   ]
  },
  {
   "cell_type": "markdown",
   "metadata": {
    "id": "lQ7QKXXCp7Bj"
   },
   "source": [
    "##### 2. What is/are the insight(s) found from the chart?"
   ]
  },
  {
   "cell_type": "markdown",
   "metadata": {
    "id": "C_j1G7yiqdRP"
   },
   "source": [
    "Highest number of ride requests occur between 5 AM to 10 AM and again between 5 PM to 9 PM.\n",
    "\n",
    "These times align with typical office commute hours, indicating high demand during peak traffic periods."
   ]
  },
  {
   "cell_type": "markdown",
   "metadata": {
    "id": "448CDAPjqfQr"
   },
   "source": [
    "##### 3. Will the gained insights help creating a positive business impact?\n",
    "Are there any insights that lead to negative growth? Justify with specific reason."
   ]
  },
  {
   "cell_type": "markdown",
   "metadata": {
    "id": "3cspy4FjqxJW"
   },
   "source": [
    "Yes. By identifying peak hours, Uber can optimize driver allocation, offer incentives during high-demand periods, and improve wait times.\n",
    "\n",
    "Not addressing these peaks may lead to rider dissatisfaction and missed revenue opportunities."
   ]
  },
  {
   "cell_type": "markdown",
   "metadata": {
    "id": "KSlN3yHqYklG"
   },
   "source": [
    "#### Chart - 2"
   ]
  },
  {
   "cell_type": "code",
   "execution_count": 39,
   "metadata": {
    "id": "R4YgtaqtYklH"
   },
   "outputs": [
    {
     "data": {
      "image/png": "[encoded data removed]",
      "text/plain": [
       "<Figure size 1200x600 with 1 Axes>"
      ]
     },
     "metadata": {},
     "output_type": "display_data"
    }
   ],
   "source": [
    "# Chart - 2 visualization code\n",
    "# Group by hour and status\n",
    "hourly_status = df.groupby(['request_hour', 'Status']).size().unstack()\n",
    "\n",
    "# Plot\n",
    "hourly_status.plot(kind='bar', stacked=True, colormap='Set3')\n",
    "plt.title(\"Requests by Hour and Status\")\n",
    "plt.xlabel(\"Hour of Day\")\n",
    "plt.ylabel(\"Number of Requests\")\n",
    "plt.xticks(rotation=0)\n",
    "plt.legend(title='Status')\n",
    "plt.show()\n"
   ]
  },
  {
   "cell_type": "markdown",
   "metadata": {
    "id": "t6dVpIINYklI"
   },
   "source": [
    "##### 1. Why did you pick the specific chart?"
   ]
  },
  {
   "cell_type": "markdown",
   "metadata": {
    "id": "5aaW0BYyYklI"
   },
   "source": [
    "A stacked bar chart allows clear comparison of different request outcomes (Trip Completed, Cancelled, No Cars Available) across each hour of the day."
   ]
  },
  {
   "cell_type": "markdown",
   "metadata": {
    "id": "ijmpgYnKYklI"
   },
   "source": [
    "##### 2. What is/are the insight(s) found from the chart?"
   ]
  },
  {
   "cell_type": "markdown",
   "metadata": {
    "id": "PSx9atu2YklI"
   },
   "source": [
    "Early morning hours (5 AM – 9 AM) have a high volume of unfulfilled requests, especially No Cars Available.\n",
    "\n",
    "Evening hours (5 PM – 9 PM) show high cancellations."
   ]
  },
  {
   "cell_type": "markdown",
   "metadata": {
    "id": "-JiQyfWJYklI"
   },
   "source": [
    "##### 3. Will the gained insights help creating a positive business impact?\n",
    "Are there any insights that lead to negative growth? Justify with specific reason."
   ]
  },
  {
   "cell_type": "markdown",
   "metadata": {
    "id": "BcBbebzrYklV"
   },
   "source": [
    "✅ Yes. Uber can increase driver incentives or run surge pricing to improve supply in hours with poor fulfillment rates.\n",
    "\n",
    "❌ If ignored, these gaps could lead to customer churn and a negative brand image."
   ]
  },
  {
   "cell_type": "markdown",
   "metadata": {
    "id": "EM7whBJCYoAo"
   },
   "source": [
    "#### Chart - 3"
   ]
  },
  {
   "cell_type": "code",
   "execution_count": 40,
   "metadata": {
    "id": "t6GMdE67YoAp"
   },
   "outputs": [
    {
     "data": {
      "image/png": "[encoded data removed]",
      "text/plain": [
       "<Figure size 1200x600 with 1 Axes>"
      ]
     },
     "metadata": {},
     "output_type": "display_data"
    }
   ],
   "source": [
    "# Chart - 3 visualization code\n",
    "\n",
    "sns.countplot(x='Pickup_point', hue='Status', data=df, palette='coolwarm')\n",
    "plt.title(\"Request Status by Pickup Point\")\n",
    "plt.xlabel(\"Pickup Point\")\n",
    "plt.ylabel(\"Count\")\n",
    "plt.show()\n"
   ]
  },
  {
   "cell_type": "markdown",
   "metadata": {
    "id": "fge-S5ZAYoAp"
   },
   "source": [
    "##### 1. Why did you pick the specific chart?"
   ]
  },
  {
   "cell_type": "markdown",
   "metadata": {
    "id": "5dBItgRVYoAp"
   },
   "source": [
    "A grouped bar chart makes it easy to compare trip status outcomes across the two pickup locations: City and Airport."
   ]
  },
  {
   "cell_type": "markdown",
   "metadata": {
    "id": "85gYPyotYoAp"
   },
   "source": [
    "##### 2. What is/are the insight(s) found from the chart?"
   ]
  },
  {
   "cell_type": "markdown",
   "metadata": {
    "id": "4jstXR6OYoAp"
   },
   "source": [
    "The Airport suffers from more No Cars Available issues.\n",
    "\n",
    "The City sees more Cancelled rides."
   ]
  },
  {
   "cell_type": "markdown",
   "metadata": {
    "id": "RoGjAbkUYoAp"
   },
   "source": [
    "##### 3. Will the gained insights help creating a positive business impact?\n",
    "Are there any insights that lead to negative growth? Justify with specific reason."
   ]
  },
  {
   "cell_type": "markdown",
   "metadata": {
    "id": "zfJ8IqMcYoAp"
   },
   "source": [
    "✅ Yes. Uber can assign dedicated airport fleet coverage or dynamic driver routing.\n",
    "\n",
    "❌ If not addressed, this may lead to lower reliability at airports, affecting both travelers and airport partnerships."
   ]
  },
  {
   "cell_type": "markdown",
   "metadata": {
    "id": "4Of9eVA-YrdM"
   },
   "source": [
    "#### Chart - 4"
   ]
  },
  {
   "cell_type": "code",
   "execution_count": 41,
   "metadata": {
    "id": "irlUoxc8YrdO"
   },
   "outputs": [
    {
     "name": "stderr",
     "output_type": "stream",
     "text": [
      "C:\\Users\\Gayatri\\AppData\\Local\\Temp\\ipykernel_26380\\184270508.py:4: FutureWarning: \n",
      "\n",
      "Passing `palette` without assigning `hue` is deprecated and will be removed in v0.14.0. Assign the `x` variable to `hue` and set `legend=False` for the same effect.\n",
      "\n",
      "  sns.countplot(x='time_slot', data=failed, order=[\n"
     ]
    },
    {
     "data": {
      "image/png": "[encoded data removed]",
      "text/plain": [
       "<Figure size 1200x600 with 1 Axes>"
      ]
     },
     "metadata": {},
     "output_type": "display_data"
    }
   ],
   "source": [
    "# Chart - 4 visualization code\n",
    "failed = df[df['is_failed_request'] == True]\n",
    "\n",
    "sns.countplot(x='time_slot', data=failed, order=[\n",
    "    'Early Morning', 'Morning', 'Afternoon', 'Evening', 'Night', 'Late Night'\n",
    "], palette='rocket')\n",
    "plt.title(\"Failed Requests by Time Slot\")\n",
    "plt.xlabel(\"Time Slot\")\n",
    "plt.ylabel(\"Count of Failures\")\n",
    "plt.xticks(rotation=15)\n",
    "plt.show()\n"
   ]
  },
  {
   "cell_type": "markdown",
   "metadata": {
    "id": "iky9q4vBYrdO"
   },
   "source": [
    "##### 1. Why did you pick the specific chart?"
   ]
  },
  {
   "cell_type": "markdown",
   "metadata": {
    "id": "aJRCwT6DYrdO"
   },
   "source": [
    "A time-slot grouped countplot highlights when in the day most failed requests occur, making supply-demand gaps more readable."
   ]
  },
  {
   "cell_type": "markdown",
   "metadata": {
    "id": "F6T5p64dYrdO"
   },
   "source": [
    "##### 2. What is/are the insight(s) found from the chart?"
   ]
  },
  {
   "cell_type": "markdown",
   "metadata": {
    "id": "Xx8WAJvtYrdO"
   },
   "source": [
    "Early Morning and Night slots have the highest number of failures.\n",
    "\n",
    "Suggests a supply gap due to fewer active drivers in these time slots."
   ]
  },
  {
   "cell_type": "markdown",
   "metadata": {
    "id": "y-Ehk30pYrdP"
   },
   "source": [
    "##### 3. Will the gained insights help creating a positive business impact?\n",
    "Are there any insights that lead to negative growth? Justify with specific reason."
   ]
  },
  {
   "cell_type": "markdown",
   "metadata": {
    "id": "jLNxxz7MYrdP"
   },
   "source": [
    "✅ Yes. Uber can offer higher payouts to encourage late-night/early drivers.\n",
    "\n",
    "❌ If left unaddressed, users may switch to other services for critical early/late travel needs (like airport drops)."
   ]
  },
  {
   "cell_type": "markdown",
   "metadata": {
    "id": "bamQiAODYuh1"
   },
   "source": [
    "#### Chart - 5"
   ]
  },
  {
   "cell_type": "code",
   "execution_count": 42,
   "metadata": {
    "id": "TIJwrbroYuh3"
   },
   "outputs": [
    {
     "data": {
      "image/png": "[encoded data removed]",
      "text/plain": [
       "<Figure size 1200x600 with 1 Axes>"
      ]
     },
     "metadata": {},
     "output_type": "display_data"
    }
   ],
   "source": [
    "# Chart - 5 visualization code\n",
    "# Group and calculate % of failed requests per hour\n",
    "failure_rate = df.groupby('request_hour')['is_failed_request'].mean() * 100\n",
    "\n",
    "failure_rate.plot(kind='line', marker='o', color='red')\n",
    "plt.title(\"Failure Rate by Hour (%)\")\n",
    "plt.xlabel(\"Hour of Day\")\n",
    "plt.ylabel(\"Failure Rate (%)\")\n",
    "plt.grid(True)\n",
    "plt.show()\n"
   ]
  },
  {
   "cell_type": "markdown",
   "metadata": {
    "id": "QHF8YVU7Yuh3"
   },
   "source": [
    "#### 1. Why did you pick the specific chart?"
   ]
  },
  {
   "cell_type": "markdown",
   "metadata": {
    "id": "dcxuIMRPYuh3"
   },
   "source": [
    "A line plot clearly shows failure trends over time, with a percentage focus instead of just volume — revealing relative performance per hour."
   ]
  },
  {
   "cell_type": "markdown",
   "metadata": {
    "id": "GwzvFGzlYuh3"
   },
   "source": [
    "##### 2. What is/are the insight(s) found from the chart?"
   ]
  },
  {
   "cell_type": "markdown",
   "metadata": {
    "id": "uyqkiB8YYuh3"
   },
   "source": [
    "Highest failure rates occur between 5 AM–9 AM and again after 8 PM.\n",
    "\n",
    "Despite high demand, fulfillment is poor — strong indicator of supply-demand mismatch."
   ]
  },
  {
   "cell_type": "markdown",
   "metadata": {
    "id": "qYpmQ266Yuh3"
   },
   "source": [
    "##### 3. Will the gained insights help creating a positive business impact?\n",
    "Are there any insights that lead to negative growth? Justify with specific reason."
   ]
  },
  {
   "cell_type": "markdown",
   "metadata": {
    "id": "_WtzZ_hCYuh4"
   },
   "source": [
    "✅ Yes. Uber can use this insight to balance supply, improve app wait time, and maximize revenue.\n",
    "\n",
    "❌ Failure to meet demand in high-need hours leads to wasted opportunity and user drop-off."
   ]
  },
  {
   "cell_type": "markdown",
   "metadata": {
    "id": "OH-pJp9IphqM"
   },
   "source": [
    "#### Chart - 6"
   ]
  },
  {
   "cell_type": "code",
   "execution_count": 43,
   "metadata": {
    "id": "kuRf4wtuphqN"
   },
   "outputs": [],
   "source": [
    "# Chart - 6 visualization code"
   ]
  },
  {
   "cell_type": "markdown",
   "metadata": {
    "id": "bbFf2-_FphqN"
   },
   "source": [
    "##### 1. Why did you pick the specific chart?"
   ]
  },
  {
   "cell_type": "markdown",
   "metadata": {
    "id": "loh7H2nzphqN"
   },
   "source": [
    "Answer Here."
   ]
  },
  {
   "cell_type": "markdown",
   "metadata": {
    "id": "_ouA3fa0phqN"
   },
   "source": [
    "##### 2. What is/are the insight(s) found from the chart?"
   ]
  },
  {
   "cell_type": "markdown",
   "metadata": {
    "id": "VECbqPI7phqN"
   },
   "source": [
    "Answer Here"
   ]
  },
  {
   "cell_type": "markdown",
   "metadata": {
    "id": "Seke61FWphqN"
   },
   "source": [
    "##### 3. Will the gained insights help creating a positive business impact?\n",
    "Are there any insights that lead to negative growth? Justify with specific reason."
   ]
  },
  {
   "cell_type": "markdown",
   "metadata": {
    "id": "DW4_bGpfphqN"
   },
   "source": [
    "Answer Here"
   ]
  },
  {
   "cell_type": "markdown",
   "metadata": {
    "id": "PIIx-8_IphqN"
   },
   "source": [
    "#### Chart - 7"
   ]
  },
  {
   "cell_type": "code",
   "execution_count": 44,
   "metadata": {
    "id": "lqAIGUfyphqO"
   },
   "outputs": [],
   "source": [
    "# Chart - 7 visualization code"
   ]
  },
  {
   "cell_type": "markdown",
   "metadata": {
    "id": "t27r6nlMphqO"
   },
   "source": [
    "##### 1. Why did you pick the specific chart?"
   ]
  },
  {
   "cell_type": "markdown",
   "metadata": {
    "id": "iv6ro40sphqO"
   },
   "source": [
    "Answer Here."
   ]
  },
  {
   "cell_type": "markdown",
   "metadata": {
    "id": "r2jJGEOYphqO"
   },
   "source": [
    "##### 2. What is/are the insight(s) found from the chart?"
   ]
  },
  {
   "cell_type": "markdown",
   "metadata": {
    "id": "Po6ZPi4hphqO"
   },
   "source": [
    "Answer Here"
   ]
  },
  {
   "cell_type": "markdown",
   "metadata": {
    "id": "b0JNsNcRphqO"
   },
   "source": [
    "##### 3. Will the gained insights help creating a positive business impact?\n",
    "Are there any insights that lead to negative growth? Justify with specific reason."
   ]
  },
  {
   "cell_type": "markdown",
   "metadata": {
    "id": "xvSq8iUTphqO"
   },
   "source": [
    "Answer Here"
   ]
  },
  {
   "cell_type": "markdown",
   "metadata": {
    "id": "BZR9WyysphqO"
   },
   "source": [
    "#### Chart - 8"
   ]
  },
  {
   "cell_type": "code",
   "execution_count": 45,
   "metadata": {
    "id": "TdPTWpAVphqO"
   },
   "outputs": [],
   "source": [
    "# Chart - 8 visualization code"
   ]
  },
  {
   "cell_type": "markdown",
   "metadata": {
    "id": "jj7wYXLtphqO"
   },
   "source": [
    "##### 1. Why did you pick the specific chart?"
   ]
  },
  {
   "cell_type": "markdown",
   "metadata": {
    "id": "Ob8u6rCTphqO"
   },
   "source": [
    "Answer Here."
   ]
  },
  {
   "cell_type": "markdown",
   "metadata": {
    "id": "eZrbJ2SmphqO"
   },
   "source": [
    "##### 2. What is/are the insight(s) found from the chart?"
   ]
  },
  {
   "cell_type": "markdown",
   "metadata": {
    "id": "mZtgC_hjphqO"
   },
   "source": [
    "Answer Here"
   ]
  },
  {
   "cell_type": "markdown",
   "metadata": {
    "id": "rFu4xreNphqO"
   },
   "source": [
    "##### 3. Will the gained insights help creating a positive business impact?\n",
    "Are there any insights that lead to negative growth? Justify with specific reason."
   ]
  },
  {
   "cell_type": "markdown",
   "metadata": {
    "id": "ey_0qi68phqO"
   },
   "source": [
    "Answer Here"
   ]
  },
  {
   "cell_type": "markdown",
   "metadata": {
    "id": "YJ55k-q6phqO"
   },
   "source": [
    "#### Chart - 9"
   ]
  },
  {
   "cell_type": "code",
   "execution_count": 46,
   "metadata": {
    "id": "B2aS4O1ophqO"
   },
   "outputs": [],
   "source": [
    "# Chart - 9 visualization code"
   ]
  },
  {
   "cell_type": "markdown",
   "metadata": {
    "id": "gCFgpxoyphqP"
   },
   "source": [
    "##### 1. Why did you pick the specific chart?"
   ]
  },
  {
   "cell_type": "markdown",
   "metadata": {
    "id": "TVxDimi2phqP"
   },
   "source": [
    "Answer Here."
   ]
  },
  {
   "cell_type": "markdown",
   "metadata": {
    "id": "OVtJsKN_phqQ"
   },
   "source": [
    "##### 2. What is/are the insight(s) found from the chart?"
   ]
  },
  {
   "cell_type": "markdown",
   "metadata": {
    "id": "ngGi97qjphqQ"
   },
   "source": [
    "Answer Here"
   ]
  },
  {
   "cell_type": "markdown",
   "metadata": {
    "id": "lssrdh5qphqQ"
   },
   "source": [
    "##### 3. Will the gained insights help creating a positive business impact?\n",
    "Are there any insights that lead to negative growth? Justify with specific reason."
   ]
  },
  {
   "cell_type": "markdown",
   "metadata": {
    "id": "tBpY5ekJphqQ"
   },
   "source": [
    "Answer Here"
   ]
  },
  {
   "cell_type": "markdown",
   "metadata": {
    "id": "U2RJ9gkRphqQ"
   },
   "source": [
    "#### Chart - 10"
   ]
  },
  {
   "cell_type": "code",
   "execution_count": 47,
   "metadata": {
    "id": "GM7a4YP4phqQ"
   },
   "outputs": [],
   "source": [
    "# Chart - 10 visualization code"
   ]
  },
  {
   "cell_type": "markdown",
   "metadata": {
    "id": "1M8mcRywphqQ"
   },
   "source": [
    "##### 1. Why did you pick the specific chart?"
   ]
  },
  {
   "cell_type": "markdown",
   "metadata": {
    "id": "8agQvks0phqQ"
   },
   "source": [
    "Answer Here."
   ]
  },
  {
   "cell_type": "markdown",
   "metadata": {
    "id": "tgIPom80phqQ"
   },
   "source": [
    "##### 2. What is/are the insight(s) found from the chart?"
   ]
  },
  {
   "cell_type": "markdown",
   "metadata": {
    "id": "Qp13pnNzphqQ"
   },
   "source": [
    "Answer Here"
   ]
  },
  {
   "cell_type": "markdown",
   "metadata": {
    "id": "JMzcOPDDphqR"
   },
   "source": [
    "##### 3. Will the gained insights help creating a positive business impact?\n",
    "Are there any insights that lead to negative growth? Justify with specific reason."
   ]
  },
  {
   "cell_type": "markdown",
   "metadata": {
    "id": "R4Ka1PC2phqR"
   },
   "source": [
    "Answer Here"
   ]
  },
  {
   "cell_type": "markdown",
   "metadata": {
    "id": "x-EpHcCOp1ci"
   },
   "source": [
    "#### Chart - 11"
   ]
  },
  {
   "cell_type": "code",
   "execution_count": 48,
   "metadata": {
    "id": "mAQTIvtqp1cj"
   },
   "outputs": [],
   "source": [
    "# Chart - 11 visualization code"
   ]
  },
  {
   "cell_type": "markdown",
   "metadata": {
    "id": "X_VqEhTip1ck"
   },
   "source": [
    "##### 1. Why did you pick the specific chart?"
   ]
  },
  {
   "cell_type": "markdown",
   "metadata": {
    "id": "-vsMzt_np1ck"
   },
   "source": [
    "Answer Here."
   ]
  },
  {
   "cell_type": "markdown",
   "metadata": {
    "id": "8zGJKyg5p1ck"
   },
   "source": [
    "##### 2. What is/are the insight(s) found from the chart?"
   ]
  },
  {
   "cell_type": "markdown",
   "metadata": {
    "id": "ZYdMsrqVp1ck"
   },
   "source": [
    "Answer Here"
   ]
  },
  {
   "cell_type": "markdown",
   "metadata": {
    "id": "PVzmfK_Ep1ck"
   },
   "source": [
    "##### 3. Will the gained insights help creating a positive business impact?\n",
    "Are there any insights that lead to negative growth? Justify with specific reason."
   ]
  },
  {
   "cell_type": "markdown",
   "metadata": {
    "id": "druuKYZpp1ck"
   },
   "source": [
    "Answer Here"
   ]
  },
  {
   "cell_type": "markdown",
   "metadata": {
    "id": "n3dbpmDWp1ck"
   },
   "source": [
    "#### Chart - 12"
   ]
  },
  {
   "cell_type": "code",
   "execution_count": 49,
   "metadata": {
    "id": "bwevp1tKp1ck"
   },
   "outputs": [],
   "source": [
    "# Chart - 12 visualization code"
   ]
  },
  {
   "cell_type": "markdown",
   "metadata": {
    "id": "ylSl6qgtp1ck"
   },
   "source": [
    "##### 1. Why did you pick the specific chart?"
   ]
  },
  {
   "cell_type": "markdown",
   "metadata": {
    "id": "m2xqNkiQp1ck"
   },
   "source": [
    "Answer Here."
   ]
  },
  {
   "cell_type": "markdown",
   "metadata": {
    "id": "ZWILFDl5p1ck"
   },
   "source": [
    "##### 2. What is/are the insight(s) found from the chart?"
   ]
  },
  {
   "cell_type": "markdown",
   "metadata": {
    "id": "x-lUsV2mp1ck"
   },
   "source": [
    "Answer Here"
   ]
  },
  {
   "cell_type": "markdown",
   "metadata": {
    "id": "M7G43BXep1ck"
   },
   "source": [
    "##### 3. Will the gained insights help creating a positive business impact?\n",
    "Are there any insights that lead to negative growth? Justify with specific reason."
   ]
  },
  {
   "cell_type": "markdown",
   "metadata": {
    "id": "5wwDJXsLp1cl"
   },
   "source": [
    "Answer Here"
   ]
  },
  {
   "cell_type": "markdown",
   "metadata": {
    "id": "Ag9LCva-p1cl"
   },
   "source": [
    "#### Chart - 13"
   ]
  },
  {
   "cell_type": "code",
   "execution_count": 50,
   "metadata": {
    "id": "EUfxeq9-p1cl"
   },
   "outputs": [],
   "source": [
    "# Chart - 13 visualization code"
   ]
  },
  {
   "cell_type": "markdown",
   "metadata": {
    "id": "E6MkPsBcp1cl"
   },
   "source": [
    "##### 1. Why did you pick the specific chart?"
   ]
  },
  {
   "cell_type": "markdown",
   "metadata": {
    "id": "V22bRsFWp1cl"
   },
   "source": [
    "Answer Here."
   ]
  },
  {
   "cell_type": "markdown",
   "metadata": {
    "id": "2cELzS2fp1cl"
   },
   "source": [
    "##### 2. What is/are the insight(s) found from the chart?"
   ]
  },
  {
   "cell_type": "markdown",
   "metadata": {
    "id": "ozQPc2_Ip1cl"
   },
   "source": [
    "Answer Here"
   ]
  },
  {
   "cell_type": "markdown",
   "metadata": {
    "id": "3MPXvC8up1cl"
   },
   "source": [
    "##### 3. Will the gained insights help creating a positive business impact?\n",
    "Are there any insights that lead to negative growth? Justify with specific reason."
   ]
  },
  {
   "cell_type": "markdown",
   "metadata": {
    "id": "GL8l1tdLp1cl"
   },
   "source": [
    "Answer Here"
   ]
  },
  {
   "cell_type": "markdown",
   "metadata": {
    "id": "NC_X3p0fY2L0"
   },
   "source": [
    "#### Chart - 14 - Correlation Heatmap"
   ]
  },
  {
   "cell_type": "code",
   "execution_count": 51,
   "metadata": {
    "id": "xyC9zolEZNRQ"
   },
   "outputs": [],
   "source": [
    "# Correlation Heatmap visualization code"
   ]
  },
  {
   "cell_type": "markdown",
   "metadata": {
    "id": "UV0SzAkaZNRQ"
   },
   "source": [
    "##### 1. Why did you pick the specific chart?"
   ]
  },
  {
   "cell_type": "markdown",
   "metadata": {
    "id": "DVPuT8LYZNRQ"
   },
   "source": [
    "Answer Here."
   ]
  },
  {
   "cell_type": "markdown",
   "metadata": {
    "id": "YPEH6qLeZNRQ"
   },
   "source": [
    "##### 2. What is/are the insight(s) found from the chart?"
   ]
  },
  {
   "cell_type": "markdown",
   "metadata": {
    "id": "bfSqtnDqZNRR"
   },
   "source": [
    "Answer Here"
   ]
  },
  {
   "cell_type": "markdown",
   "metadata": {
    "id": "q29F0dvdveiT"
   },
   "source": [
    "#### Chart - 15 - Pair Plot"
   ]
  },
  {
   "cell_type": "code",
   "execution_count": 52,
   "metadata": {
    "id": "o58-TEIhveiU"
   },
   "outputs": [],
   "source": [
    "# Pair Plot visualization code"
   ]
  },
  {
   "cell_type": "markdown",
   "metadata": {
    "id": "EXh0U9oCveiU"
   },
   "source": [
    "##### 1. Why did you pick the specific chart?"
   ]
  },
  {
   "cell_type": "markdown",
   "metadata": {
    "id": "eMmPjTByveiU"
   },
   "source": [
    "Answer Here."
   ]
  },
  {
   "cell_type": "markdown",
   "metadata": {
    "id": "22aHeOlLveiV"
   },
   "source": [
    "##### 2. What is/are the insight(s) found from the chart?"
   ]
  },
  {
   "cell_type": "markdown",
   "metadata": {
    "id": "uPQ8RGwHveiV"
   },
   "source": [
    "Answer Here"
   ]
  },
  {
   "cell_type": "markdown",
   "metadata": {
    "id": "JcMwzZxoAimU"
   },
   "source": [
    "## **5. Solution to Business Objective**"
   ]
  },
  {
   "cell_type": "markdown",
   "metadata": {
    "id": "8G2x9gOozGDZ"
   },
   "source": [
    "#### What do you suggest the client to achieve Business Objective ?\n",
    "Explain Briefly."
   ]
  },
  {
   "cell_type": "markdown",
   "metadata": {
    "id": "pASKb0qOza21"
   },
   "source": [
    "To address the **supply-demand gap in Uber services**, especially during peak hours and critical time slots, we suggest the following:\n",
    "\n",
    "1. **Dynamic Driver Incentives**  \n",
    "   - Offer higher payouts or bonuses during early morning (5–9 AM) and evening (5–9 PM) slots.\n",
    "   - This will motivate more drivers to be active during high-demand hours.\n",
    "\n",
    "2. **Demand Forecasting & Driver Allocation**  \n",
    "   - Use historical data to predict peak load times and proactively position drivers near **airports** and **city hotspots**.\n",
    "\n",
    "3. **Dedicated Airport Supply Pool**  \n",
    "   - Deploy a fixed number of drivers to serve airport requests, where \"No Cars Available\" was significantly high.\n",
    "\n",
    "4. **Cancellation Reduction Campaign**  \n",
    "   - Investigate causes of ride cancellations from drivers, especially for city pickups.\n",
    "   - Introduce penalties for frequent cancellations or incentives for consistent fulfillment.\n",
    "\n",
    "5. **Improve App Messaging**  \n",
    "   - During failure-prone hours, inform users about expected delays or availability issues — improving user trust.\n",
    "\n",
    "These strategies directly align with Uber’s goal of **reducing missed opportunities**, **improving customer satisfaction**, and **increasing revenue**.\n"
   ]
  },
  {
   "cell_type": "markdown",
   "metadata": {
    "id": "gCX9965dhzqZ"
   },
   "source": [
    "# **Conclusion**"
   ]
  },
  {
   "cell_type": "markdown",
   "metadata": {
    "id": "Fjb1IsQkh3yE"
   },
   "source": [
    "This Exploratory Data Analysis (EDA) on Uber ride requests revealed a clear **mismatch between demand and supply**, especially during peak hours like early mornings and evenings.\n",
    "\n",
    "Key observations include:\n",
    "- **High failure rates** due to `No Cars Available` at the **Airport**\n",
    "- **High cancellation rates** from **City** pickups\n",
    "- Peak ride requests align with **commute hours**, but supply often fails to meet demand\n",
    "\n",
    "By using targeted driver incentives, smart allocation, and proactive communication, Uber can minimize the supply-demand gap and significantly improve user experience.\n",
    "\n",
    "Overall, this data-driven approach provides valuable insights that can help Uber make **strategic operational improvements**.\n"
   ]
  },
  {
   "cell_type": "markdown",
   "metadata": {
    "id": "gIfDvo9L0UH2"
   },
   "source": [
    "### ***Hurrah! You have successfully completed your EDA Capstone Project !!!***"
   ]
  },
  {
   "cell_type": "code",
   "execution_count": null,
   "metadata": {
    "id": "dYX880etpL0x"
   },
   "outputs": [],
   "source": []
  },
  {
   "cell_type": "code",
   "execution_count": null,
   "metadata": {
    "id": "-6Vl263upPVI"
   },
   "outputs": [],
   "source": []
  }
 ],
 "metadata": {
  "colab": {
   "collapsed_sections": [
    "vncDsAP0Gaoa",
    "FJNUwmbgGyua",
    "w6K7xa23Elo4",
    "yQaldy8SH6Dl",
    "PH-0ReGfmX4f",
    "mDgbUHAGgjLW",
    "O_i_v8NEhb9l",
    "HhfV-JJviCcP",
    "Y3lxredqlCYt",
    "3RnN4peoiCZX",
    "x71ZqKXriCWQ",
    "7hBIi_osiCS2",
    "JlHwYmJAmNHm",
    "35m5QtbWiB9F",
    "PoPl-ycgm1ru",
    "H0kj-8xxnORC",
    "nA9Y7ga8ng1Z",
    "PBTbrJXOngz2",
    "u3PMJOP6ngxN",
    "dauF4eBmngu3",
    "bKJF3rekwFvQ",
    "MSa1f5Uengrz",
    "GF8Ens_Soomf",
    "0wOQAZs5pc--",
    "K5QZ13OEpz2H",
    "lQ7QKXXCp7Bj",
    "448CDAPjqfQr",
    "KSlN3yHqYklG",
    "t6dVpIINYklI",
    "ijmpgYnKYklI",
    "-JiQyfWJYklI",
    "EM7whBJCYoAo",
    "fge-S5ZAYoAp",
    "85gYPyotYoAp",
    "RoGjAbkUYoAp",
    "4Of9eVA-YrdM",
    "iky9q4vBYrdO",
    "F6T5p64dYrdO",
    "y-Ehk30pYrdP",
    "bamQiAODYuh1",
    "QHF8YVU7Yuh3",
    "GwzvFGzlYuh3",
    "qYpmQ266Yuh3",
    "OH-pJp9IphqM",
    "bbFf2-_FphqN",
    "_ouA3fa0phqN",
    "Seke61FWphqN",
    "PIIx-8_IphqN",
    "t27r6nlMphqO",
    "r2jJGEOYphqO",
    "b0JNsNcRphqO",
    "BZR9WyysphqO",
    "jj7wYXLtphqO",
    "eZrbJ2SmphqO",
    "rFu4xreNphqO",
    "YJ55k-q6phqO",
    "gCFgpxoyphqP",
    "OVtJsKN_phqQ",
    "lssrdh5qphqQ",
    "U2RJ9gkRphqQ",
    "1M8mcRywphqQ",
    "tgIPom80phqQ",
    "JMzcOPDDphqR",
    "x-EpHcCOp1ci",
    "X_VqEhTip1ck",
    "8zGJKyg5p1ck",
    "PVzmfK_Ep1ck",
    "n3dbpmDWp1ck",
    "ylSl6qgtp1ck",
    "ZWILFDl5p1ck",
    "M7G43BXep1ck",
    "Ag9LCva-p1cl",
    "E6MkPsBcp1cl",
    "2cELzS2fp1cl",
    "3MPXvC8up1cl",
    "NC_X3p0fY2L0",
    "UV0SzAkaZNRQ",
    "YPEH6qLeZNRQ",
    "q29F0dvdveiT",
    "EXh0U9oCveiU",
    "22aHeOlLveiV",
    "JcMwzZxoAimU",
    "8G2x9gOozGDZ",
    "gCX9965dhzqZ",
    "gIfDvo9L0UH2"
   ],
   "private_outputs": true,
   "provenance": []
  },
  "kernelspec": {
   "display_name": "Python 3 (ipykernel)",
   "language": "python",
   "name": "python3"
  },
  "language_info": {
   "codemirror_mode": {
    "name": "ipython",
    "version": 3
   },
   "file_extension": ".py",
   "mimetype": "text/x-python",
   "name": "python",
   "nbconvert_exporter": "python",
   "pygments_lexer": "ipython3",
   "version": "3.13.5"
  }
 },
 "nbformat": 4,
 "nbformat_minor": 4
}
